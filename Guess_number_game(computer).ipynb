{
  "nbformat": 4,
  "nbformat_minor": 0,
  "metadata": {
    "colab": {
      "provenance": [],
      "authorship_tag": "ABX9TyOfscn3vmPJWpxYgwFbql26",
      "include_colab_link": true
    },
    "kernelspec": {
      "name": "python3",
      "display_name": "Python 3"
    },
    "language_info": {
      "name": "python"
    }
  },
  "cells": [
    {
      "cell_type": "markdown",
      "metadata": {
        "id": "view-in-github",
        "colab_type": "text"
      },
      "source": [
        "<a href=\"https://colab.research.google.com/github/Sanam-g-qadir4523/Assignment_04_part_2/blob/main/Guess_number_game(computer).ipynb\" target=\"_parent\"><img src=\"https://colab.research.google.com/assets/colab-badge.svg\" alt=\"Open In Colab\"/></a>"
      ]
    },
    {
      "cell_type": "code",
      "execution_count": null,
      "metadata": {
        "colab": {
          "base_uri": "https://localhost:8080/"
        },
        "id": "YOGg5-fLZs0z",
        "outputId": "d32798d7-c7a0-4087-ce9f-6fd3029f3ba2"
      },
      "outputs": [
        {
          "output_type": "stream",
          "name": "stdout",
          "text": [
            "\n",
            " ✨Welcome to the Number Guessing Game.✨ \n",
            "\n",
            "\n",
            " 💻 Computer Guess the Number. \n",
            "\n",
            "🤔 Think of a number between 1 and 10, and 💻 will try to guess it!\n",
            "🤖 Is your number 3?\n",
            " 👉 Enter 'h' for too high, 'l' for too low, or 'c' for correct: 4\n",
            "⚠️ Invalid input. Please enter only 'h', 'l', or 'c'. 🚫\n",
            "🤖 Is your number 7?\n",
            " 👉 Enter 'h' for too high, 'l' for too low, or 'c' for correct: 7\n",
            "⚠️ Invalid input. Please enter only 'h', 'l', or 'c'. 🚫\n",
            "🤖 Is your number 6?\n",
            " 👉 Enter 'h' for too high, 'l' for too low, or 'c' for correct: 9\n",
            "⚠️ Invalid input. Please enter only 'h', 'l', or 'c'. 🚫\n",
            "🤖 Is your number 8?\n",
            " 👉 Enter 'h' for too high, 'l' for too low, or 'c' for correct: 10\n",
            "⚠️ Invalid input. Please enter only 'h', 'l', or 'c'. 🚫\n",
            "🤖 Is your number 8?\n"
          ]
        }
      ],
      "source": [
        "import random\n",
        "\n",
        "print(\"\\n ✨Welcome to the Number Guessing Game.✨ \\n\")\n",
        "print(\"\\n 💻 Computer Guess the Number. \\n\")\n",
        "\n",
        "low = 1\n",
        "high = 10\n",
        "\n",
        "print(\"🤔 Think of a number between 1 and 10, and 💻 will try to guess it!\")\n",
        "\n",
        "while low <= high:  # Loop to keep guessing until the correct number is found\n",
        "    guess = random.randint(low, high)\n",
        "    print(f\"🤖 Is your number {guess}?\")\n",
        "\n",
        "    feedback = input(\" 👉 Enter 'h' for too high, 'l' for too low, or 'c' for correct: \").lower()\n",
        "\n",
        "    if feedback == 'h':\n",
        "        high = guess - 1\n",
        "    elif feedback == 'l':\n",
        "        low = guess + 1\n",
        "    elif feedback == 'c':\n",
        "        print(f\"🎉 Yay! 💻 guessed {guess} correctly. 🎉\")\n",
        "        break  # Exit loop if guessed correctly\n",
        "    else:\n",
        "        print(\"⚠️ Invalid input. Please enter only 'h', 'l', or 'c'. 🚫\")\n",
        "\n",
        "if low > high:\n",
        "    print(\"😅 Hmm... It seems there was a misunderstanding. Let's try again! 🔄\")\n",
        "\n"
      ]
    }
  ]
}